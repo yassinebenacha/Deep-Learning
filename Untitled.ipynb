{
 "cells": [
  {
   "cell_type": "code",
   "execution_count": 1,
   "id": "0fdf0342-998f-4347-8c42-a266a52f16eb",
   "metadata": {},
   "outputs": [],
   "source": [
    "import numpy as np\n",
    "import matplotlib.pyplot as plt\n",
    "from sklearn.datasets import make_blobs"
   ]
  },
  {
   "cell_type": "code",
   "execution_count": 2,
   "id": "0b51708c-c88d-436c-903e-7cb55b7b258f",
   "metadata": {},
   "outputs": [],
   "source": [
    "x,y = make_blobs(n_samples=100 , n_features=2 , centers=2, random_state=0)\n",
    "y = y.reshape ((y.shape[0],1))"
   ]
  },
  {
   "cell_type": "code",
   "execution_count": 3,
   "id": "8eb7b222-4605-43d3-81c0-dbb0e3b93c90",
   "metadata": {},
   "outputs": [
    {
     "name": "stdout",
     "output_type": "stream",
     "text": [
      "dimensions de x: (100, 2)\n",
      "dimensions de y: (100, 1)\n"
     ]
    }
   ],
   "source": [
    "print('dimensions de x:' , x.shape)\n",
    "print('dimensions de y:' , y.shape)"
   ]
  },
  {
   "cell_type": "code",
   "execution_count": 4,
   "id": "27bd5845-0a1e-4318-8f44-92078b22ff6f",
   "metadata": {},
   "outputs": [
    {
     "name": "stdout",
     "output_type": "stream",
     "text": [
      "dimensions de x: (100, 2)\n",
      "dimensions de y: (100, 1)\n"
     ]
    }
   ],
   "source": [
    "print('dimensions de x:' , x.shape)\n",
    "print('dimensions de y:' , y.shape)"
   ]
  },
  {
   "cell_type": "code",
   "execution_count": null,
   "id": "3bf41118-9993-4fdb-ae97-3b02a861893c",
   "metadata": {},
   "outputs": [],
   "source": []
  }
 ],
 "metadata": {
  "kernelspec": {
   "display_name": "Python 3 (ipykernel)",
   "language": "python",
   "name": "python3"
  },
  "language_info": {
   "codemirror_mode": {
    "name": "ipython",
    "version": 3
   },
   "file_extension": ".py",
   "mimetype": "text/x-python",
   "name": "python",
   "nbconvert_exporter": "python",
   "pygments_lexer": "ipython3",
   "version": "3.12.3"
  }
 },
 "nbformat": 4,
 "nbformat_minor": 5
}
