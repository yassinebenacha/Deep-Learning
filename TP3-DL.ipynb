{
 "cells": [
  {
   "cell_type": "code",
   "execution_count": null,
   "id": "0fdf0342-998f-4347-8c42-a266a52f16eb",
   "metadata": {},
   "outputs": [],
   "source": []
  }
 ],
 "metadata": {
  "kernelspec": {
   "display_name": "",
   "name": ""
  },
  "language_info": {
   "name": ""
  }
 },
 "nbformat": 4,
 "nbformat_minor": 5
}
